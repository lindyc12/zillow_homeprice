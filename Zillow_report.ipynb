{
 "cells": [
  {
   "cell_type": "markdown",
   "id": "a7610a1e",
   "metadata": {},
   "source": [
    "# Zillow Report"
   ]
  },
  {
   "cell_type": "markdown",
   "id": "4d8ddefc",
   "metadata": {},
   "source": [
    "Lindy Castellaw\n",
    "7/27/2022"
   ]
  },
  {
   "cell_type": "markdown",
   "id": "7303d85f",
   "metadata": {},
   "source": [
    "A home is often the most expensive purchase a person makes. Ensuring homeowners have a trusted way to monitor this asset is important. For this project the goal will be testing out different features to see what can help predict home value better.\n",
    "\n",
    "Workflow:\n",
    "\n",
    "-Import Libraries \n",
    "\n",
    "-Exploratory Data Analysis\n",
    "\n",
    "-Data cleaning \n",
    "\n",
    "-Data splitting\n",
    "\n",
    "-Baseline model training\n",
    "\n",
    "-Feature engineering\n",
    "\n",
    "-Robust model Training and Hyperparameter tuning\n",
    "\n",
    "-Conclusion & Future Work\n"
   ]
  },
  {
   "cell_type": "code",
   "execution_count": 1,
   "id": "414932a2",
   "metadata": {},
   "outputs": [],
   "source": [
    "# imports \n",
    "import numpy as np\n",
    "import pandas as pd\n",
    "import seaborn as sns\n",
    "import wrangle\n",
    "import scipy.stats as stats\n",
    "import matplotlib.pyplot as plt\n",
    "from sklearn.feature_selection import RFE\n",
    "from sklearn.metrics import mean_squared_error\n",
    "from sklearn.preprocessing import MinMaxScaler\n",
    "from sklearn.model_selection import train_test_split\n",
    "from env import host, user, password\n",
    "from wrangle import wrangle_zillow \n",
    "import sklearn.preprocessing\n",
    "from sklearn.feature_selection import SelectKBest, RFE, f_regression, SequentialFeatureSelector\n",
    "from sklearn.linear_model import LassoLars\n",
    "from sklearn.linear_model import LinearRegression, TweedieRegressor\n",
    "from math import sqrt\n",
    "from sklearn.preprocessing import RobustScaler"
   ]
  },
  {
   "cell_type": "code",
   "execution_count": 2,
   "id": "b5e10c6d",
   "metadata": {},
   "outputs": [],
   "source": [
    "def get_db_url(database):\n",
    "    return f'mysql+pymysql://{user}:{password}@{host}/{database}'"
   ]
  },
  {
   "cell_type": "markdown",
   "id": "079d4b65",
   "metadata": {},
   "source": [
    "Acquire and Prep data\n",
    "    \n",
    "    - Handle outliers\n",
    "    \n",
    "    - Convert datatype\n",
    "   \n",
    "    - Rename columns"
   ]
  },
  {
   "cell_type": "code",
   "execution_count": 3,
   "id": "95c25554",
   "metadata": {},
   "outputs": [
    {
     "data": {
      "text/html": [
       "<div>\n",
       "<style scoped>\n",
       "    .dataframe tbody tr th:only-of-type {\n",
       "        vertical-align: middle;\n",
       "    }\n",
       "\n",
       "    .dataframe tbody tr th {\n",
       "        vertical-align: top;\n",
       "    }\n",
       "\n",
       "    .dataframe thead th {\n",
       "        text-align: right;\n",
       "    }\n",
       "</style>\n",
       "<table border=\"1\" class=\"dataframe\">\n",
       "  <thead>\n",
       "    <tr style=\"text-align: right;\">\n",
       "      <th></th>\n",
       "      <th>bedroom</th>\n",
       "      <th>bathroom</th>\n",
       "      <th>SqFt</th>\n",
       "      <th>home_value</th>\n",
       "      <th>year_built</th>\n",
       "      <th>tax_amount</th>\n",
       "      <th>pool</th>\n",
       "    </tr>\n",
       "  </thead>\n",
       "  <tbody>\n",
       "    <tr>\n",
       "      <th>0</th>\n",
       "      <td>5.0</td>\n",
       "      <td>4.0</td>\n",
       "      <td>4872.0</td>\n",
       "      <td>970876.0</td>\n",
       "      <td>1991.0</td>\n",
       "      <td>12072.52</td>\n",
       "      <td>1.0</td>\n",
       "    </tr>\n",
       "    <tr>\n",
       "      <th>1</th>\n",
       "      <td>3.0</td>\n",
       "      <td>2.0</td>\n",
       "      <td>1812.0</td>\n",
       "      <td>241175.0</td>\n",
       "      <td>1974.0</td>\n",
       "      <td>3110.42</td>\n",
       "      <td>NaN</td>\n",
       "    </tr>\n",
       "    <tr>\n",
       "      <th>2</th>\n",
       "      <td>4.0</td>\n",
       "      <td>5.0</td>\n",
       "      <td>4066.0</td>\n",
       "      <td>1236000.0</td>\n",
       "      <td>1992.0</td>\n",
       "      <td>15095.14</td>\n",
       "      <td>1.0</td>\n",
       "    </tr>\n",
       "    <tr>\n",
       "      <th>3</th>\n",
       "      <td>4.0</td>\n",
       "      <td>4.0</td>\n",
       "      <td>3083.0</td>\n",
       "      <td>538410.0</td>\n",
       "      <td>1979.0</td>\n",
       "      <td>6700.97</td>\n",
       "      <td>1.0</td>\n",
       "    </tr>\n",
       "    <tr>\n",
       "      <th>4</th>\n",
       "      <td>4.0</td>\n",
       "      <td>3.0</td>\n",
       "      <td>2417.0</td>\n",
       "      <td>195224.0</td>\n",
       "      <td>1976.0</td>\n",
       "      <td>2557.31</td>\n",
       "      <td>1.0</td>\n",
       "    </tr>\n",
       "  </tbody>\n",
       "</table>\n",
       "</div>"
      ],
      "text/plain": [
       "   bedroom  bathroom    SqFt  home_value  year_built  tax_amount  pool\n",
       "0      5.0       4.0  4872.0    970876.0      1991.0    12072.52   1.0\n",
       "1      3.0       2.0  1812.0    241175.0      1974.0     3110.42   NaN\n",
       "2      4.0       5.0  4066.0   1236000.0      1992.0    15095.14   1.0\n",
       "3      4.0       4.0  3083.0    538410.0      1979.0     6700.97   1.0\n",
       "4      4.0       3.0  2417.0    195224.0      1976.0     2557.31   1.0"
      ]
     },
     "execution_count": 3,
     "metadata": {},
     "output_type": "execute_result"
    }
   ],
   "source": [
    "df = wrangle_zillow()\n",
    "df.head()"
   ]
  },
  {
   "cell_type": "code",
   "execution_count": 4,
   "id": "c0e76f0e",
   "metadata": {},
   "outputs": [],
   "source": [
    "# fill nulls in pool column with 0\n",
    "df['pool'] = df['pool'].fillna(0)"
   ]
  },
  {
   "cell_type": "code",
   "execution_count": 5,
   "id": "8efd1574",
   "metadata": {},
   "outputs": [
    {
     "data": {
      "text/html": [
       "<div>\n",
       "<style scoped>\n",
       "    .dataframe tbody tr th:only-of-type {\n",
       "        vertical-align: middle;\n",
       "    }\n",
       "\n",
       "    .dataframe tbody tr th {\n",
       "        vertical-align: top;\n",
       "    }\n",
       "\n",
       "    .dataframe thead th {\n",
       "        text-align: right;\n",
       "    }\n",
       "</style>\n",
       "<table border=\"1\" class=\"dataframe\">\n",
       "  <thead>\n",
       "    <tr style=\"text-align: right;\">\n",
       "      <th></th>\n",
       "      <th>bedroom</th>\n",
       "      <th>bathroom</th>\n",
       "      <th>SqFt</th>\n",
       "      <th>home_value</th>\n",
       "      <th>year_built</th>\n",
       "      <th>tax_amount</th>\n",
       "      <th>pool</th>\n",
       "    </tr>\n",
       "  </thead>\n",
       "  <tbody>\n",
       "    <tr>\n",
       "      <th>0</th>\n",
       "      <td>5.0</td>\n",
       "      <td>4.0</td>\n",
       "      <td>4872.0</td>\n",
       "      <td>970876.0</td>\n",
       "      <td>1991.0</td>\n",
       "      <td>12072.52</td>\n",
       "      <td>1.0</td>\n",
       "    </tr>\n",
       "    <tr>\n",
       "      <th>1</th>\n",
       "      <td>3.0</td>\n",
       "      <td>2.0</td>\n",
       "      <td>1812.0</td>\n",
       "      <td>241175.0</td>\n",
       "      <td>1974.0</td>\n",
       "      <td>3110.42</td>\n",
       "      <td>0.0</td>\n",
       "    </tr>\n",
       "    <tr>\n",
       "      <th>2</th>\n",
       "      <td>4.0</td>\n",
       "      <td>5.0</td>\n",
       "      <td>4066.0</td>\n",
       "      <td>1236000.0</td>\n",
       "      <td>1992.0</td>\n",
       "      <td>15095.14</td>\n",
       "      <td>1.0</td>\n",
       "    </tr>\n",
       "    <tr>\n",
       "      <th>3</th>\n",
       "      <td>4.0</td>\n",
       "      <td>4.0</td>\n",
       "      <td>3083.0</td>\n",
       "      <td>538410.0</td>\n",
       "      <td>1979.0</td>\n",
       "      <td>6700.97</td>\n",
       "      <td>1.0</td>\n",
       "    </tr>\n",
       "    <tr>\n",
       "      <th>4</th>\n",
       "      <td>4.0</td>\n",
       "      <td>3.0</td>\n",
       "      <td>2417.0</td>\n",
       "      <td>195224.0</td>\n",
       "      <td>1976.0</td>\n",
       "      <td>2557.31</td>\n",
       "      <td>1.0</td>\n",
       "    </tr>\n",
       "    <tr>\n",
       "      <th>...</th>\n",
       "      <td>...</td>\n",
       "      <td>...</td>\n",
       "      <td>...</td>\n",
       "      <td>...</td>\n",
       "      <td>...</td>\n",
       "      <td>...</td>\n",
       "      <td>...</td>\n",
       "    </tr>\n",
       "    <tr>\n",
       "      <th>56071</th>\n",
       "      <td>5.0</td>\n",
       "      <td>3.5</td>\n",
       "      <td>3870.0</td>\n",
       "      <td>1025191.0</td>\n",
       "      <td>2005.0</td>\n",
       "      <td>16301.18</td>\n",
       "      <td>0.0</td>\n",
       "    </tr>\n",
       "    <tr>\n",
       "      <th>56072</th>\n",
       "      <td>5.0</td>\n",
       "      <td>4.5</td>\n",
       "      <td>3680.0</td>\n",
       "      <td>1204081.0</td>\n",
       "      <td>2004.0</td>\n",
       "      <td>16019.90</td>\n",
       "      <td>0.0</td>\n",
       "    </tr>\n",
       "    <tr>\n",
       "      <th>56073</th>\n",
       "      <td>5.0</td>\n",
       "      <td>4.5</td>\n",
       "      <td>4039.0</td>\n",
       "      <td>1707049.0</td>\n",
       "      <td>2005.0</td>\n",
       "      <td>21168.34</td>\n",
       "      <td>0.0</td>\n",
       "    </tr>\n",
       "    <tr>\n",
       "      <th>56076</th>\n",
       "      <td>4.0</td>\n",
       "      <td>4.5</td>\n",
       "      <td>3117.0</td>\n",
       "      <td>1689116.0</td>\n",
       "      <td>2004.0</td>\n",
       "      <td>21864.84</td>\n",
       "      <td>0.0</td>\n",
       "    </tr>\n",
       "    <tr>\n",
       "      <th>56078</th>\n",
       "      <td>3.0</td>\n",
       "      <td>3.5</td>\n",
       "      <td>2821.0</td>\n",
       "      <td>1537253.0</td>\n",
       "      <td>2004.0</td>\n",
       "      <td>19633.88</td>\n",
       "      <td>0.0</td>\n",
       "    </tr>\n",
       "  </tbody>\n",
       "</table>\n",
       "<p>54255 rows × 7 columns</p>\n",
       "</div>"
      ],
      "text/plain": [
       "       bedroom  bathroom    SqFt  home_value  year_built  tax_amount  pool\n",
       "0          5.0       4.0  4872.0    970876.0      1991.0    12072.52   1.0\n",
       "1          3.0       2.0  1812.0    241175.0      1974.0     3110.42   0.0\n",
       "2          4.0       5.0  4066.0   1236000.0      1992.0    15095.14   1.0\n",
       "3          4.0       4.0  3083.0    538410.0      1979.0     6700.97   1.0\n",
       "4          4.0       3.0  2417.0    195224.0      1976.0     2557.31   1.0\n",
       "...        ...       ...     ...         ...         ...         ...   ...\n",
       "56071      5.0       3.5  3870.0   1025191.0      2005.0    16301.18   0.0\n",
       "56072      5.0       4.5  3680.0   1204081.0      2004.0    16019.90   0.0\n",
       "56073      5.0       4.5  4039.0   1707049.0      2005.0    21168.34   0.0\n",
       "56076      4.0       4.5  3117.0   1689116.0      2004.0    21864.84   0.0\n",
       "56078      3.0       3.5  2821.0   1537253.0      2004.0    19633.88   0.0\n",
       "\n",
       "[54255 rows x 7 columns]"
      ]
     },
     "execution_count": 5,
     "metadata": {},
     "output_type": "execute_result"
    }
   ],
   "source": [
    "# fill null values \n",
    "df.fillna(0)"
   ]
  },
  {
   "cell_type": "code",
   "execution_count": 7,
   "id": "d5a4f8f9",
   "metadata": {},
   "outputs": [
    {
     "data": {
      "image/png": "[encoded data removed]",
      "text/plain": [
       "<Figure size 864x576 with 1 Axes>"
      ]
     },
     "metadata": {
      "needs_background": "light"
     },
     "output_type": "display_data"
    }
   ],
   "source": [
    "plt.figure(figsize=(12,8))\n",
    "sns.countplot(x=\"bathroom\", data=df)\n",
    "plt.ylabel('Count', fontsize=12)\n",
    "plt.xlabel('Bathroom', fontsize=12)\n",
    "plt.xticks(rotation='vertical')\n",
    "plt.title(\"Frequency of Bathroom\", fontsize=15)\n",
    "plt.show()"
   ]
  },
  {
   "cell_type": "markdown",
   "id": "45cba9fb",
   "metadata": {},
   "source": [
    "We will only be focusing on zero to five bathrooms since they are the most common."
   ]
  },
  {
   "cell_type": "markdown",
   "id": "919391cf",
   "metadata": {},
   "source": [
    "Split Data into Train, Validate and Test"
   ]
  },
  {
   "cell_type": "code",
   "execution_count": 8,
   "id": "534b79c6",
   "metadata": {},
   "outputs": [],
   "source": [
    "seed = 42\n",
    "\n",
    "train, test_val = train_test_split(df, train_size=0.7,\n",
    "                                   random_state=seed)\n",
    "\n",
    "test, valid = train_test_split(test_val, train_size=0.5,\n",
    "                               random_state=seed)"
   ]
  },
  {
   "cell_type": "code",
   "execution_count": 9,
   "id": "70fa539f",
   "metadata": {},
   "outputs": [],
   "source": [
    "# make X and Y values \n",
    "X_train = train[['pool', 'SqFt', 'bedroom', 'bathroom']]\n",
    "y_train = train.home_value\n",
    "X_validate = valid[['pool', 'SqFt', 'bedroom', 'bathroom']]\n",
    "y_validate = valid.home_value\n",
    "X_test = test[['pool', 'SqFt', 'bedroom', 'bathroom']]\n",
    "y_test = test.home_value"
   ]
  },
  {
   "cell_type": "code",
   "execution_count": 10,
   "id": "73a3747e",
   "metadata": {},
   "outputs": [
    {
     "data": {
      "text/plain": [
       "<AxesSubplot:>"
      ]
     },
     "execution_count": 10,
     "metadata": {},
     "output_type": "execute_result"
    },
    {
     "data": {
      "image/png": "[encoded data removed]",
      "text/plain": [
       "<Figure size 432x288 with 2 Axes>"
      ]
     },
     "metadata": {
      "needs_background": "light"
     },
     "output_type": "display_data"
    }
   ],
   "source": [
    "exam_corr = train.corr(method='spearman')\n",
    "correlation_table = train.corr(method='spearman')\n",
    "# sns.heatmap(correlation_table, cmap='Blues', annot=True, vmin=0, vmax=1)\n",
    "sns.heatmap(correlation_table, cmap='Blues', annot=True)"
   ]
  },
  {
   "cell_type": "markdown",
   "id": "ae20a472",
   "metadata": {},
   "source": [
    "The correlation of the target variable with the given set of variables are low overall, there is a higher correlation for bathroom "
   ]
  },
  {
   "cell_type": "markdown",
   "id": "063f6784",
   "metadata": {},
   "source": [
    "Testing\n",
    "\n",
    "I will be preforming a T test and Pearson R on bathroom and SqFt features on home value using train data.\n",
    "\n",
    "Ha- Bathroom and SqFt affect home value\n",
    "\n",
    "H0- They do not affect home value"
   ]
  },
  {
   "cell_type": "code",
   "execution_count": 11,
   "id": "48416c0f",
   "metadata": {},
   "outputs": [
    {
     "name": "stdout",
     "output_type": "stream",
     "text": [
      "-252.29489125607014 0.0 0.05\n",
      "We reject null\n"
     ]
    }
   ],
   "source": [
    "alpha = 0.05\n",
    "\n",
    "t, p = stats.ttest_ind(train.bathroom, train.home_value, equal_var=False)\n",
    "t, p / 2\n",
    "\n",
    "\n",
    "print(t, p/2, alpha)\n",
    "\n",
    "if p/2 < alpha:\n",
    "    print(\"We reject null\")\n",
    "else:\n",
    "    print(\"We fail to reject null\")"
   ]
  },
  {
   "cell_type": "code",
   "execution_count": 12,
   "id": "5dc30b01",
   "metadata": {},
   "outputs": [
    {
     "name": "stdout",
     "output_type": "stream",
     "text": [
      "r = 0.56341\n",
      "p = 0.0\n"
     ]
    },
    {
     "data": {
      "text/plain": [
       "Text(8, 80, 'r = 0.563')"
      ]
     },
     "execution_count": 12,
     "metadata": {},
     "output_type": "execute_result"
    },
    {
     "data": {
      "image/png": "[encoded data removed]",
      "text/plain": [
       "<Figure size 432x288 with 1 Axes>"
      ]
     },
     "metadata": {
      "needs_background": "light"
     },
     "output_type": "display_data"
    }
   ],
   "source": [
    "r, p = stats.pearsonr(train.SqFt, train.home_value)\n",
    "print(f'r = {r:.5f}')\n",
    "print(f'p = {p:.1f}')\n",
    "\n",
    "\n",
    "df.plot.scatter('SqFt', 'home_value')\n",
    "plt.title('SqFt vs home value')\n",
    "plt.text(8, 80, f'r = {r:.3f}')"
   ]
  },
  {
   "cell_type": "markdown",
   "id": "34693b52",
   "metadata": {},
   "source": [
    "Both have low P values so we know that they are related from the tests. We will move onto feature engineering."
   ]
  },
  {
   "cell_type": "markdown",
   "id": "4f160df1",
   "metadata": {},
   "source": [
    "But first we must scale data with Robust Scaler"
   ]
  },
  {
   "cell_type": "code",
   "execution_count": 13,
   "id": "50a2c1d9",
   "metadata": {},
   "outputs": [
    {
     "data": {
      "text/plain": [
       "Text(0.5, 1.0, 'Scaled')"
      ]
     },
     "execution_count": 13,
     "metadata": {},
     "output_type": "execute_result"
    },
    {
     "data": {
      "image/png": "[encoded data removed]",
      "text/plain": [
       "<Figure size 936x432 with 2 Axes>"
      ]
     },
     "metadata": {
      "needs_background": "light"
     },
     "output_type": "display_data"
    }
   ],
   "source": [
    "rs = sklearn.preprocessing.RobustScaler()\n",
    "scaler = RobustScaler()\n",
    "scaler.fit(X_train)\n",
    "\n",
    "X_train_scaled = pd.DataFrame(scaler.transform(X_train), index=X_train.index, columns=X_train.columns)\n",
    "X_validate_scaled = pd.DataFrame(scaler.transform(X_validate), index=X_validate.index, columns=X_validate.columns)\n",
    "X_test_scaled = pd.DataFrame(scaler.transform(X_test), index=X_test.index, columns=X_test.columns)\n",
    "\n",
    "# plot scaled data\n",
    "plt.figure(figsize=(13, 6))\n",
    "plt.subplot(121)\n",
    "plt.hist(X_train, bins=25, ec='black')\n",
    "plt.title('Original')\n",
    "plt.subplot(122)\n",
    "plt.hist(X_train_scaled, bins=25, ec='black')\n",
    "plt.title('Scaled')"
   ]
  },
  {
   "cell_type": "markdown",
   "id": "b177447c",
   "metadata": {},
   "source": [
    "SelectKBest to pick the two top features for testing using scaled data."
   ]
  },
  {
   "cell_type": "code",
   "execution_count": 14,
   "id": "a5c26fa8",
   "metadata": {},
   "outputs": [
    {
     "data": {
      "text/html": [
       "<div>\n",
       "<style scoped>\n",
       "    .dataframe tbody tr th:only-of-type {\n",
       "        vertical-align: middle;\n",
       "    }\n",
       "\n",
       "    .dataframe tbody tr th {\n",
       "        vertical-align: top;\n",
       "    }\n",
       "\n",
       "    .dataframe thead th {\n",
       "        text-align: right;\n",
       "    }\n",
       "</style>\n",
       "<table border=\"1\" class=\"dataframe\">\n",
       "  <thead>\n",
       "    <tr style=\"text-align: right;\">\n",
       "      <th></th>\n",
       "      <th>p</th>\n",
       "      <th>f</th>\n",
       "    </tr>\n",
       "  </thead>\n",
       "  <tbody>\n",
       "    <tr>\n",
       "      <th>pool</th>\n",
       "      <td>0.0</td>\n",
       "      <td>1693.738504</td>\n",
       "    </tr>\n",
       "    <tr>\n",
       "      <th>SqFt</th>\n",
       "      <td>0.0</td>\n",
       "      <td>17660.948768</td>\n",
       "    </tr>\n",
       "    <tr>\n",
       "      <th>bedroom</th>\n",
       "      <td>0.0</td>\n",
       "      <td>2613.154760</td>\n",
       "    </tr>\n",
       "    <tr>\n",
       "      <th>bathroom</th>\n",
       "      <td>0.0</td>\n",
       "      <td>11482.995451</td>\n",
       "    </tr>\n",
       "  </tbody>\n",
       "</table>\n",
       "</div>"
      ],
      "text/plain": [
       "            p             f\n",
       "pool      0.0   1693.738504\n",
       "SqFt      0.0  17660.948768\n",
       "bedroom   0.0   2613.154760\n",
       "bathroom  0.0  11482.995451"
      ]
     },
     "execution_count": 14,
     "metadata": {},
     "output_type": "execute_result"
    }
   ],
   "source": [
    "kbest = SelectKBest(f_regression, k=2) #select 2 features\n",
    "kbest.fit(X_train_scaled, y_train)\n",
    "kbest_results = pd.DataFrame(dict(p=kbest.pvalues_, f=kbest.scores_), index=X_train_scaled.columns)\n",
    "kbest_results"
   ]
  },
  {
   "cell_type": "code",
   "execution_count": 15,
   "id": "9a100e58",
   "metadata": {},
   "outputs": [
    {
     "data": {
      "text/html": [
       "<div>\n",
       "<style scoped>\n",
       "    .dataframe tbody tr th:only-of-type {\n",
       "        vertical-align: middle;\n",
       "    }\n",
       "\n",
       "    .dataframe tbody tr th {\n",
       "        vertical-align: top;\n",
       "    }\n",
       "\n",
       "    .dataframe thead th {\n",
       "        text-align: right;\n",
       "    }\n",
       "</style>\n",
       "<table border=\"1\" class=\"dataframe\">\n",
       "  <thead>\n",
       "    <tr style=\"text-align: right;\">\n",
       "      <th></th>\n",
       "      <th>p</th>\n",
       "      <th>f</th>\n",
       "    </tr>\n",
       "  </thead>\n",
       "  <tbody>\n",
       "    <tr>\n",
       "      <th>pool</th>\n",
       "      <td>0.0</td>\n",
       "      <td>1693.738504</td>\n",
       "    </tr>\n",
       "    <tr>\n",
       "      <th>SqFt</th>\n",
       "      <td>0.0</td>\n",
       "      <td>17660.948768</td>\n",
       "    </tr>\n",
       "    <tr>\n",
       "      <th>bedroom</th>\n",
       "      <td>0.0</td>\n",
       "      <td>2613.154760</td>\n",
       "    </tr>\n",
       "    <tr>\n",
       "      <th>bathroom</th>\n",
       "      <td>0.0</td>\n",
       "      <td>11482.995451</td>\n",
       "    </tr>\n",
       "  </tbody>\n",
       "</table>\n",
       "</div>"
      ],
      "text/plain": [
       "            p             f\n",
       "pool      0.0   1693.738504\n",
       "SqFt      0.0  17660.948768\n",
       "bedroom   0.0   2613.154760\n",
       "bathroom  0.0  11482.995451"
      ]
     },
     "execution_count": 15,
     "metadata": {},
     "output_type": "execute_result"
    }
   ],
   "source": [
    "kbest_results = pd.DataFrame(dict(p=kbest.pvalues_, f=kbest.scores_), index=X_train_scaled.columns)\n",
    "kbest_results"
   ]
  },
  {
   "cell_type": "code",
   "execution_count": 16,
   "id": "c350067b",
   "metadata": {},
   "outputs": [
    {
     "data": {
      "text/html": [
       "<div>\n",
       "<style scoped>\n",
       "    .dataframe tbody tr th:only-of-type {\n",
       "        vertical-align: middle;\n",
       "    }\n",
       "\n",
       "    .dataframe tbody tr th {\n",
       "        vertical-align: top;\n",
       "    }\n",
       "\n",
       "    .dataframe thead th {\n",
       "        text-align: right;\n",
       "    }\n",
       "</style>\n",
       "<table border=\"1\" class=\"dataframe\">\n",
       "  <thead>\n",
       "    <tr style=\"text-align: right;\">\n",
       "      <th></th>\n",
       "      <th>SqFt</th>\n",
       "      <th>bathroom</th>\n",
       "    </tr>\n",
       "  </thead>\n",
       "  <tbody>\n",
       "    <tr>\n",
       "      <th>14064</th>\n",
       "      <td>1120.0</td>\n",
       "      <td>1.0</td>\n",
       "    </tr>\n",
       "    <tr>\n",
       "      <th>29556</th>\n",
       "      <td>1869.0</td>\n",
       "      <td>3.0</td>\n",
       "    </tr>\n",
       "    <tr>\n",
       "      <th>23797</th>\n",
       "      <td>720.0</td>\n",
       "      <td>1.0</td>\n",
       "    </tr>\n",
       "    <tr>\n",
       "      <th>10575</th>\n",
       "      <td>1243.0</td>\n",
       "      <td>2.0</td>\n",
       "    </tr>\n",
       "    <tr>\n",
       "      <th>25618</th>\n",
       "      <td>1804.0</td>\n",
       "      <td>3.0</td>\n",
       "    </tr>\n",
       "  </tbody>\n",
       "</table>\n",
       "</div>"
      ],
      "text/plain": [
       "         SqFt  bathroom\n",
       "14064  1120.0       1.0\n",
       "29556  1869.0       3.0\n",
       "23797   720.0       1.0\n",
       "10575  1243.0       2.0\n",
       "25618  1804.0       3.0"
      ]
     },
     "execution_count": 16,
     "metadata": {},
     "output_type": "execute_result"
    }
   ],
   "source": [
    "X_train_scaled.columns[kbest.get_support()]\n",
    "\n",
    "X_train_transformed = pd.DataFrame(\n",
    "    kbest.transform(X_train),\n",
    "    index=X_train_scaled.index,\n",
    "    columns=X_train_scaled.columns[kbest.get_support()]\n",
    ")\n",
    "X_train_transformed.head()"
   ]
  },
  {
   "cell_type": "markdown",
   "id": "a179a579",
   "metadata": {},
   "source": [
    "SqFt and Bathroom are the features we will model and will use X_train_transformed going forward."
   ]
  },
  {
   "cell_type": "markdown",
   "id": "b7136a68",
   "metadata": {},
   "source": [
    "## Modeling"
   ]
  },
  {
   "cell_type": "markdown",
   "id": "ac1dda47",
   "metadata": {},
   "source": [
    "LinearRegression"
   ]
  },
  {
   "cell_type": "code",
   "execution_count": 17,
   "id": "09f4d36b",
   "metadata": {},
   "outputs": [
    {
     "data": {
      "text/plain": [
       "array([223144.5868305 , 432579.5614202 , 139701.09999215, ...,\n",
       "       283741.33045957, 682593.02017233, 520195.22260047])"
      ]
     },
     "execution_count": 17,
     "metadata": {},
     "output_type": "execute_result"
    }
   ],
   "source": [
    "## fit model on x train transformed \n",
    "lm = LinearRegression().fit(X_train_transformed,\n",
    "                            y_train)\n",
    "lm_predict = lm.predict(X_train_transformed) #predictions\n",
    "lm_predict"
   ]
  },
  {
   "cell_type": "markdown",
   "id": "1229a5ca",
   "metadata": {},
   "source": [
    "LassoLars"
   ]
  },
  {
   "cell_type": "code",
   "execution_count": 18,
   "id": "5205cca4",
   "metadata": {},
   "outputs": [
    {
     "name": "stderr",
     "output_type": "stream",
     "text": [
      "/usr/local/anaconda3/lib/python3.9/site-packages/sklearn/linear_model/_base.py:133: FutureWarning: The default of 'normalize' will be set to False in version 1.2 and deprecated in version 1.4.\n",
      "If you wish to scale the data, use Pipeline with a StandardScaler in a preprocessing stage. To reproduce the previous behavior:\n",
      "\n",
      "from sklearn.pipeline import make_pipeline\n",
      "\n",
      "model = make_pipeline(StandardScaler(with_mean=False), LassoLars())\n",
      "\n",
      "If you wish to pass a sample_weight parameter, you need to pass it as a fit parameter to each step of the pipeline as follows:\n",
      "\n",
      "kwargs = {s[0] + '__sample_weight': sample_weight for s in model.steps}\n",
      "model.fit(X, y, **kwargs)\n",
      "\n",
      "Set parameter alpha to: original_alpha * np.sqrt(n_samples). \n",
      "  warnings.warn(\n"
     ]
    }
   ],
   "source": [
    "lars = LassoLars(alpha=0.05)\n",
    "lars.fit(X_train_transformed, y_train)\n",
    "lars_predict = lars.predict(X_train_transformed) #predictions"
   ]
  },
  {
   "cell_type": "markdown",
   "id": "62842fa8",
   "metadata": {},
   "source": [
    "GLM"
   ]
  },
  {
   "cell_type": "code",
   "execution_count": 19,
   "id": "e47f1624",
   "metadata": {},
   "outputs": [],
   "source": [
    "glm = TweedieRegressor(power=0, alpha=.05)\n",
    "\n",
    "glm.fit(X_train_transformed, y_train)\n",
    "glm_predict = glm.predict(X_train_transformed) #predictions"
   ]
  },
  {
   "cell_type": "markdown",
   "id": "5ee5bbc6",
   "metadata": {},
   "source": [
    "Prediction DF"
   ]
  },
  {
   "cell_type": "markdown",
   "id": "67496009",
   "metadata": {},
   "source": [
    "I made a dataframe to hold all the models predictions and the baseline "
   ]
  },
  {
   "cell_type": "code",
   "execution_count": 20,
   "id": "6b180d34",
   "metadata": {},
   "outputs": [],
   "source": [
    "predictions = pd.DataFrame({\n",
    "    'actual': train.home_value\n",
    "})"
   ]
  },
  {
   "cell_type": "code",
   "execution_count": 21,
   "id": "405e6f50",
   "metadata": {},
   "outputs": [],
   "source": [
    "predictions['lm'] = lm.predict(X_train_transformed)\n",
    "predictions.head()\n",
    "\n",
    "predictions['lars'] = lars.predict(X_train_transformed)\n",
    "predictions.head()\n",
    "\n",
    "predictions['glm'] = glm.predict(X_train_transformed)\n",
    "predictions.head()\n",
    "\n",
    "predictions['baseline'] = train.home_value.mean()"
   ]
  },
  {
   "cell_type": "code",
   "execution_count": null,
   "id": "456dd9da",
   "metadata": {},
   "outputs": [],
   "source": [
    "predictions"
   ]
  },
  {
   "cell_type": "markdown",
   "id": "cbdbca35",
   "metadata": {},
   "source": [
    "## Evaluate RMSE\n",
    "\n",
    "I am evaluating all the models on train"
   ]
  },
  {
   "cell_type": "code",
   "execution_count": 22,
   "id": "7dff805e",
   "metadata": {},
   "outputs": [
    {
     "name": "stdout",
     "output_type": "stream",
     "text": [
      "Root Mean Square Error:\n",
      "\n",
      "248724.73766278697\n"
     ]
    }
   ],
   "source": [
    "MSE = mean_squared_error(predictions.actual, predictions.lm)\n",
    "import math #import math\n",
    "RMSE = math.sqrt(MSE)\n",
    "print(\"Root Mean Square Error:\\n\")\n",
    "print(RMSE)"
   ]
  },
  {
   "cell_type": "code",
   "execution_count": 23,
   "id": "45622781",
   "metadata": {},
   "outputs": [
    {
     "name": "stdout",
     "output_type": "stream",
     "text": [
      "Root Mean Square Error:\n",
      "\n",
      "248734.8977894671\n"
     ]
    }
   ],
   "source": [
    "MSE = mean_squared_error(predictions.actual, predictions.glm)\n",
    "import math #import math\n",
    "RMSE = math.sqrt(MSE)\n",
    "print(\"Root Mean Square Error:\\n\")\n",
    "print(RMSE)"
   ]
  },
  {
   "cell_type": "code",
   "execution_count": 24,
   "id": "243a7b8a",
   "metadata": {},
   "outputs": [
    {
     "name": "stdout",
     "output_type": "stream",
     "text": [
      "Root Mean Square Error:\n",
      "\n",
      "248724.73787364666\n"
     ]
    }
   ],
   "source": [
    "MSE = mean_squared_error(predictions.actual, predictions.lars)\n",
    "import math #import math\n",
    "RMSE = math.sqrt(MSE)\n",
    "print(\"Root Mean Square Error:\\n\")\n",
    "print(RMSE)"
   ]
  },
  {
   "cell_type": "markdown",
   "id": "f03829fc",
   "metadata": {},
   "source": [
    "Make a new predictions table with validate "
   ]
  },
  {
   "cell_type": "code",
   "execution_count": 25,
   "id": "790468ae",
   "metadata": {},
   "outputs": [],
   "source": [
    "predictions_V = pd.DataFrame({\n",
    "    'actual': valid.home_value\n",
    "})"
   ]
  },
  {
   "cell_type": "markdown",
   "id": "136fa337",
   "metadata": {},
   "source": [
    "Transform X_validate using scaled data and make predictions "
   ]
  },
  {
   "cell_type": "code",
   "execution_count": 26,
   "id": "f2d5e93d",
   "metadata": {},
   "outputs": [
    {
     "data": {
      "text/html": [
       "<div>\n",
       "<style scoped>\n",
       "    .dataframe tbody tr th:only-of-type {\n",
       "        vertical-align: middle;\n",
       "    }\n",
       "\n",
       "    .dataframe tbody tr th {\n",
       "        vertical-align: top;\n",
       "    }\n",
       "\n",
       "    .dataframe thead th {\n",
       "        text-align: right;\n",
       "    }\n",
       "</style>\n",
       "<table border=\"1\" class=\"dataframe\">\n",
       "  <thead>\n",
       "    <tr style=\"text-align: right;\">\n",
       "      <th></th>\n",
       "      <th>SqFt</th>\n",
       "      <th>bathroom</th>\n",
       "    </tr>\n",
       "  </thead>\n",
       "  <tbody>\n",
       "    <tr>\n",
       "      <th>2971</th>\n",
       "      <td>0.633509</td>\n",
       "      <td>1.0</td>\n",
       "    </tr>\n",
       "    <tr>\n",
       "      <th>34126</th>\n",
       "      <td>2.028341</td>\n",
       "      <td>1.5</td>\n",
       "    </tr>\n",
       "    <tr>\n",
       "      <th>11883</th>\n",
       "      <td>-0.467908</td>\n",
       "      <td>0.0</td>\n",
       "    </tr>\n",
       "    <tr>\n",
       "      <th>46033</th>\n",
       "      <td>1.658238</td>\n",
       "      <td>2.0</td>\n",
       "    </tr>\n",
       "    <tr>\n",
       "      <th>53562</th>\n",
       "      <td>0.296749</td>\n",
       "      <td>1.0</td>\n",
       "    </tr>\n",
       "  </tbody>\n",
       "</table>\n",
       "</div>"
      ],
      "text/plain": [
       "           SqFt  bathroom\n",
       "2971   0.633509       1.0\n",
       "34126  2.028341       1.5\n",
       "11883 -0.467908       0.0\n",
       "46033  1.658238       2.0\n",
       "53562  0.296749       1.0"
      ]
     },
     "execution_count": 26,
     "metadata": {},
     "output_type": "execute_result"
    }
   ],
   "source": [
    "# tranform x validate \n",
    "X_validate_transformed = pd.DataFrame(\n",
    "    kbest.transform(X_validate_scaled),\n",
    "    index=X_validate_scaled.index,\n",
    "    columns=X_validate_scaled.columns[kbest.get_support()]\n",
    ")\n",
    "X_validate_transformed.head()"
   ]
  },
  {
   "cell_type": "code",
   "execution_count": 27,
   "id": "84b6ebb9",
   "metadata": {},
   "outputs": [
    {
     "data": {
      "text/html": [
       "<div>\n",
       "<style scoped>\n",
       "    .dataframe tbody tr th:only-of-type {\n",
       "        vertical-align: middle;\n",
       "    }\n",
       "\n",
       "    .dataframe tbody tr th {\n",
       "        vertical-align: top;\n",
       "    }\n",
       "\n",
       "    .dataframe thead th {\n",
       "        text-align: right;\n",
       "    }\n",
       "</style>\n",
       "<table border=\"1\" class=\"dataframe\">\n",
       "  <thead>\n",
       "    <tr style=\"text-align: right;\">\n",
       "      <th></th>\n",
       "      <th>actual</th>\n",
       "      <th>lm</th>\n",
       "      <th>lars</th>\n",
       "      <th>glm</th>\n",
       "    </tr>\n",
       "  </thead>\n",
       "  <tbody>\n",
       "    <tr>\n",
       "      <th>2971</th>\n",
       "      <td>128060.0</td>\n",
       "      <td>-10365.020753</td>\n",
       "      <td>-10344.432444</td>\n",
       "      <td>-12603.061014</td>\n",
       "    </tr>\n",
       "    <tr>\n",
       "      <th>34126</th>\n",
       "      <td>556036.0</td>\n",
       "      <td>3222.714711</td>\n",
       "      <td>3240.069495</td>\n",
       "      <td>-1306.947508</td>\n",
       "    </tr>\n",
       "    <tr>\n",
       "      <th>11883</th>\n",
       "      <td>261570.0</td>\n",
       "      <td>-37188.308695</td>\n",
       "      <td>-37161.265817</td>\n",
       "      <td>-34835.894698</td>\n",
       "    </tr>\n",
       "    <tr>\n",
       "      <th>46033</th>\n",
       "      <td>512578.0</td>\n",
       "      <td>16442.269411</td>\n",
       "      <td>16456.403718</td>\n",
       "      <td>9613.447364</td>\n",
       "    </tr>\n",
       "    <tr>\n",
       "      <th>53562</th>\n",
       "      <td>258882.0</td>\n",
       "      <td>-10435.271868</td>\n",
       "      <td>-10414.681069</td>\n",
       "      <td>-12674.750400</td>\n",
       "    </tr>\n",
       "  </tbody>\n",
       "</table>\n",
       "</div>"
      ],
      "text/plain": [
       "         actual            lm          lars           glm\n",
       "2971   128060.0 -10365.020753 -10344.432444 -12603.061014\n",
       "34126  556036.0   3222.714711   3240.069495  -1306.947508\n",
       "11883  261570.0 -37188.308695 -37161.265817 -34835.894698\n",
       "46033  512578.0  16442.269411  16456.403718   9613.447364\n",
       "53562  258882.0 -10435.271868 -10414.681069 -12674.750400"
      ]
     },
     "execution_count": 27,
     "metadata": {},
     "output_type": "execute_result"
    }
   ],
   "source": [
    "predictions_V['lm'] = lm.predict(X_validate_transformed)\n",
    "\n",
    "\n",
    "predictions_V['lars'] = lars.predict(X_validate_transformed)\n",
    "\n",
    "\n",
    "predictions_V['glm'] = glm.predict(X_validate_transformed)\n",
    "predictions_V.head()\n"
   ]
  },
  {
   "cell_type": "code",
   "execution_count": 28,
   "id": "950092ce",
   "metadata": {},
   "outputs": [
    {
     "name": "stdout",
     "output_type": "stream",
     "text": [
      "Root Mean Square Error:\n",
      "\n",
      "516751.6393016268\n",
      "Root Mean Square Error:\n",
      "\n",
      "516771.72730062704\n",
      "Root Mean Square Error:\n",
      "\n",
      "516389.63416049536\n"
     ]
    }
   ],
   "source": [
    "MSE = mean_squared_error(predictions_V.actual, predictions_V.lars)\n",
    "\n",
    "RMSE = math.sqrt(MSE)\n",
    "print(\"Root Mean Square Error:\\n\")\n",
    "print(RMSE)\n",
    "\n",
    "MSE = mean_squared_error(predictions_V.actual, predictions_V.lm)\n",
    "\n",
    "RMSE = math.sqrt(MSE)\n",
    "print(\"Root Mean Square Error:\\n\")\n",
    "print(RMSE)\n",
    "\n",
    "MSE = mean_squared_error(predictions_V.actual, predictions_V.glm)\n",
    "\n",
    "RMSE = math.sqrt(MSE)\n",
    "print(\"Root Mean Square Error:\\n\")\n",
    "print(RMSE)"
   ]
  },
  {
   "cell_type": "markdown",
   "id": "56126813",
   "metadata": {},
   "source": [
    "Make Test predictions"
   ]
  },
  {
   "cell_type": "code",
   "execution_count": 33,
   "id": "167dd787",
   "metadata": {},
   "outputs": [],
   "source": [
    "predictions_T = pd.DataFrame({\n",
    "    'actual': test.home_value\n",
    "})"
   ]
  },
  {
   "cell_type": "code",
   "execution_count": 35,
   "id": "6bf5d5e4",
   "metadata": {},
   "outputs": [
    {
     "data": {
      "text/html": [
       "<div>\n",
       "<style scoped>\n",
       "    .dataframe tbody tr th:only-of-type {\n",
       "        vertical-align: middle;\n",
       "    }\n",
       "\n",
       "    .dataframe tbody tr th {\n",
       "        vertical-align: top;\n",
       "    }\n",
       "\n",
       "    .dataframe thead th {\n",
       "        text-align: right;\n",
       "    }\n",
       "</style>\n",
       "<table border=\"1\" class=\"dataframe\">\n",
       "  <thead>\n",
       "    <tr style=\"text-align: right;\">\n",
       "      <th></th>\n",
       "      <th>actual</th>\n",
       "      <th>lm</th>\n",
       "      <th>lars</th>\n",
       "      <th>glm</th>\n",
       "    </tr>\n",
       "  </thead>\n",
       "  <tbody>\n",
       "    <tr>\n",
       "      <th>6175</th>\n",
       "      <td>180727.0</td>\n",
       "      <td>-37141.706470</td>\n",
       "      <td>-37114.665244</td>\n",
       "      <td>-34788.338372</td>\n",
       "    </tr>\n",
       "    <tr>\n",
       "      <th>11832</th>\n",
       "      <td>53183.0</td>\n",
       "      <td>-37163.500545</td>\n",
       "      <td>-37136.458547</td>\n",
       "      <td>-34810.578644</td>\n",
       "    </tr>\n",
       "    <tr>\n",
       "      <th>36676</th>\n",
       "      <td>174407.0</td>\n",
       "      <td>-37037.604982</td>\n",
       "      <td>-37010.567446</td>\n",
       "      <td>-34682.105584</td>\n",
       "    </tr>\n",
       "    <tr>\n",
       "      <th>33439</th>\n",
       "      <td>508465.0</td>\n",
       "      <td>-23727.396202</td>\n",
       "      <td>-23703.582355</td>\n",
       "      <td>-23669.200646</td>\n",
       "    </tr>\n",
       "    <tr>\n",
       "      <th>28566</th>\n",
       "      <td>342234.0</td>\n",
       "      <td>-63735.692916</td>\n",
       "      <td>-63702.205249</td>\n",
       "      <td>-56787.176005</td>\n",
       "    </tr>\n",
       "  </tbody>\n",
       "</table>\n",
       "</div>"
      ],
      "text/plain": [
       "         actual            lm          lars           glm\n",
       "6175   180727.0 -37141.706470 -37114.665244 -34788.338372\n",
       "11832   53183.0 -37163.500545 -37136.458547 -34810.578644\n",
       "36676  174407.0 -37037.604982 -37010.567446 -34682.105584\n",
       "33439  508465.0 -23727.396202 -23703.582355 -23669.200646\n",
       "28566  342234.0 -63735.692916 -63702.205249 -56787.176005"
      ]
     },
     "execution_count": 35,
     "metadata": {},
     "output_type": "execute_result"
    }
   ],
   "source": [
    "predictions_T['lm'] = lm.predict(X_test_scaled)\n",
    "\n",
    "\n",
    "predictions_T['lars'] = lars.predict(X_test_scaled)\n",
    "\n",
    "\n",
    "predictions_T['glm'] = glm.predict(X_test_scaled)\n",
    "predictions_T.head()\n"
   ]
  },
  {
   "cell_type": "code",
   "execution_count": 36,
   "id": "39df94cf",
   "metadata": {},
   "outputs": [
    {
     "name": "stdout",
     "output_type": "stream",
     "text": [
      "Root Mean Square Error:\n",
      "\n",
      "521286.3752545341\n"
     ]
    }
   ],
   "source": [
    "MSE = mean_squared_error(predictions_T.actual, predictions_T.glm)\n",
    "\n",
    "RMSE = math.sqrt(MSE)\n",
    "print(\"Root Mean Square Error:\\n\")\n",
    "print(RMSE)"
   ]
  },
  {
   "cell_type": "markdown",
   "id": "efd6667d",
   "metadata": {},
   "source": [
    "# Summary "
   ]
  },
  {
   "cell_type": "markdown",
   "id": "9a66a69d",
   "metadata": {},
   "source": [
    "My best Model was GLM with a RMSE of 521286.37. I think bringing in more features will help the accuracy of the models. Next time, I would try different scalers like MinMax, and Recursive Feature Elimination so see what results I get."
   ]
  },
  {
   "cell_type": "markdown",
   "id": "1e6b42e9",
   "metadata": {},
   "source": [
    "Next steps:\n",
    "\n",
    " -Try to improve prediction result by applying other Features selection."
   ]
  },
  {
   "cell_type": "code",
   "execution_count": null,
   "id": "5dff5a83",
   "metadata": {},
   "outputs": [],
   "source": []
  }
 ],
 "metadata": {
  "kernelspec": {
   "display_name": "Python 3 (ipykernel)",
   "language": "python",
   "name": "python3"
  },
  "language_info": {
   "codemirror_mode": {
    "name": "ipython",
    "version": 3
   },
   "file_extension": ".py",
   "mimetype": "text/x-python",
   "name": "python",
   "nbconvert_exporter": "python",
   "pygments_lexer": "ipython3",
   "version": "3.9.12"
  }
 },
 "nbformat": 4,
 "nbformat_minor": 5
}
